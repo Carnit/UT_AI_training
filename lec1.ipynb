{
 "cells": [
  {
   "cell_type": "code",
   "execution_count": 3,
   "id": "5376961f-f540-45de-b350-3a13df7e7084",
   "metadata": {},
   "outputs": [],
   "source": [
    "def gretting(name:str , age:int) -> None:\n",
    "    print(f'Hello {name}! , you are {age} years young')"
   ]
  },
  {
   "cell_type": "code",
   "execution_count": 4,
   "id": "ff82d10d-58fa-4e72-97bc-1ae12f9d1e6a",
   "metadata": {},
   "outputs": [],
   "source": [
    "def check_sign(num:int) -> str:\n",
    "    if num > 0:\n",
    "        return 'positive'\n",
    "    if num < 0:\n",
    "        return 'negetive'\n",
    "    if num == 0:\n",
    "        return 'zero'"
   ]
  },
  {
   "cell_type": "code",
   "execution_count": 5,
   "id": "1e16e1f0-2fa9-4403-bead-cd1e70b7a37f",
   "metadata": {},
   "outputs": [],
   "source": [
    "def arithmetics(num1:int ,num2:int) -> None:\n",
    "    print(f'a = {num1} , b = {num2}')\n",
    "    print(f'sum of a & b = {num1 + num2}')\n",
    "    print(f'diff of a & b = {num1 - num2}')\n",
    "    print(f'product of a * b = {num1 * num2}')\n",
    "    print(f'floating point quotitent of a / b = {num1 / num2}')\n",
    "    print(f'absolute quotitent of a / b = {num1 // num2}')\n",
    "    print(f'remainder between a and b = {num1 % num2}')\n",
    "    print(f'exponent of a to power b = {num1 ** num2}')"
   ]
  },
  {
   "cell_type": "code",
   "execution_count": 6,
   "id": "dcd1570d-4cb2-4e55-9f9c-7da257c97f11",
   "metadata": {},
   "outputs": [],
   "source": [
    "def swap_num(num1: int , num2: int) -> None:\n",
    "    print(f'previous values of a = {num1} , b = {num2}')\n",
    "    num1 , num2 = num2 , num1\n",
    "    print(f'current values of a = {num1} , b = {num2}')"
   ]
  },
  {
   "cell_type": "code",
   "execution_count": 8,
   "id": "f15b1a48-ad7a-472d-964d-2978447142d7",
   "metadata": {},
   "outputs": [
    {
     "name": "stdout",
     "output_type": "stream",
     "text": [
      "Hello dev! , you are 24 years young\n"
     ]
    }
   ],
   "source": [
    "gretting('dev' , 24)"
   ]
  },
  {
   "cell_type": "code",
   "execution_count": 9,
   "id": "5d4714eb-15b0-4d8b-9961-4bbc5e14fd25",
   "metadata": {},
   "outputs": [
    {
     "data": {
      "text/plain": [
       "'positive'"
      ]
     },
     "execution_count": 9,
     "metadata": {},
     "output_type": "execute_result"
    }
   ],
   "source": [
    "check_sign(24)"
   ]
  },
  {
   "cell_type": "code",
   "execution_count": 10,
   "id": "49c3ba45-3493-462f-b7f6-04c3ae6f954e",
   "metadata": {},
   "outputs": [
    {
     "name": "stdout",
     "output_type": "stream",
     "text": [
      "a = 12 , b = 5\n",
      "sum of a & b = 17\n",
      "diff of a & b = 7\n",
      "product of a * b = 60\n",
      "floating point quotitent of a / b = 2.4\n",
      "absolute quotitent of a / b = 2\n",
      "remainder between a and b = 2\n",
      "exponent of a to power b = 248832\n"
     ]
    }
   ],
   "source": [
    "arithmetics(12 ,5)"
   ]
  },
  {
   "cell_type": "code",
   "execution_count": 11,
   "id": "6ee41b72-57a6-400f-950a-e5d7495a50d9",
   "metadata": {},
   "outputs": [
    {
     "name": "stdout",
     "output_type": "stream",
     "text": [
      "previous values of a = 11 , b = 23\n",
      "current values of a = 23 , b = 11\n"
     ]
    }
   ],
   "source": [
    "swap_num(11, 23)"
   ]
  },
  {
   "cell_type": "code",
   "execution_count": null,
   "id": "bb2d9d22-bf35-417e-9e3c-748c9dd1b8b2",
   "metadata": {},
   "outputs": [],
   "source": []
  }
 ],
 "metadata": {
  "kernelspec": {
   "display_name": "Python 3 (ipykernel)",
   "language": "python",
   "name": "python3"
  },
  "language_info": {
   "codemirror_mode": {
    "name": "ipython",
    "version": 3
   },
   "file_extension": ".py",
   "mimetype": "text/x-python",
   "name": "python",
   "nbconvert_exporter": "python",
   "pygments_lexer": "ipython3",
   "version": "3.13.5"
  }
 },
 "nbformat": 4,
 "nbformat_minor": 5
}
